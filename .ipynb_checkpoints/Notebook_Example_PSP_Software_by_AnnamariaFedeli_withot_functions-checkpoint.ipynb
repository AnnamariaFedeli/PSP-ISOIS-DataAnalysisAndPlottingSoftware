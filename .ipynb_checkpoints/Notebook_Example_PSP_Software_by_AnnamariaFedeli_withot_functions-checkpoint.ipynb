{
 "cells": [
  {
   "cell_type": "code",
   "execution_count": 2,
   "id": "7a6ad0ed",
   "metadata": {},
   "outputs": [
    {
     "ename": "SyntaxError",
     "evalue": "(unicode error) 'unicodeescape' codec can't decode bytes in position 752-753: truncated \\UXXXXXXXX escape (psp_functions.py, line 746)",
     "output_type": "error",
     "traceback": [
      "Traceback \u001b[1;36m(most recent call last)\u001b[0m:\n",
      "  File \u001b[0;32m~\\Anaconda3\\envs\\annamaria\\lib\\site-packages\\IPython\\core\\interactiveshell.py:3397\u001b[0m in \u001b[0;35mrun_code\u001b[0m\n    exec(code_obj, self.user_global_ns, self.user_ns)\n",
      "\u001b[1;36m  Input \u001b[1;32mIn [2]\u001b[1;36m in \u001b[1;35m<cell line: 1>\u001b[1;36m\u001b[0m\n\u001b[1;33m    from psp_functions import *\u001b[0m\n",
      "\u001b[1;36m  File \u001b[1;32m~\\Documents\\GitHub\\PSP-ISOIS-DataAnalysisAndPlottingSoftware\\psp_functions.py:746\u001b[1;36m\u001b[0m\n\u001b[1;33m    '''\u001b[0m\n\u001b[1;37m       ^\u001b[0m\n\u001b[1;31mSyntaxError\u001b[0m\u001b[1;31m:\u001b[0m (unicode error) 'unicodeescape' codec can't decode bytes in position 752-753: truncated \\UXXXXXXXX escape\n"
     ]
    }
   ],
   "source": [
    "from psp_functions import *\n"
   ]
  },
  {
   "cell_type": "code",
   "execution_count": null,
   "id": "75e550a3",
   "metadata": {},
   "outputs": [],
   "source": []
  }
 ],
 "metadata": {
  "kernelspec": {
   "display_name": "Python 3 (ipykernel)",
   "language": "python",
   "name": "python3"
  },
  "language_info": {
   "codemirror_mode": {
    "name": "ipython",
    "version": 3
   },
   "file_extension": ".py",
   "mimetype": "text/x-python",
   "name": "python",
   "nbconvert_exporter": "python",
   "pygments_lexer": "ipython3",
   "version": "3.10.4"
  }
 },
 "nbformat": 4,
 "nbformat_minor": 5
}
