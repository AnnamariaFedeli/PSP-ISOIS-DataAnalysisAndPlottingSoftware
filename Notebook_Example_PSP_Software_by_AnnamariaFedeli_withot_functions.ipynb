{
 "cells": [
  {
   "cell_type": "code",
   "execution_count": 3,
   "id": "b57a456c",
   "metadata": {},
   "outputs": [],
   "source": [
    "from psp_functions import *\n"
   ]
  },
  {
   "cell_type": "code",
   "execution_count": 4,
   "id": "e8d9df66",
   "metadata": {
    "scrolled": true
   },
   "outputs": [
    {
     "ename": "FileNotFoundError",
     "evalue": "[Errno 2] No such file or directory: 'C:\\\\Users\\\\Omistaja\\\\Desktop\\\\SRL\\\\2020SRL\\\\softwareinfo.txt'",
     "output_type": "error",
     "traceback": [
      "\u001b[1;31m---------------------------------------------------------------------------\u001b[0m",
      "\u001b[1;31mFileNotFoundError\u001b[0m                         Traceback (most recent call last)",
      "Input \u001b[1;32mIn [4]\u001b[0m, in \u001b[0;36m<cell line: 1>\u001b[1;34m()\u001b[0m\n\u001b[1;32m----> 1\u001b[0m \u001b[43minfo_software\u001b[49m\u001b[43m(\u001b[49m\u001b[38;5;124;43mr\u001b[39;49m\u001b[38;5;124;43m'\u001b[39;49m\u001b[38;5;124;43mC:\u001b[39;49m\u001b[38;5;124;43m\\\u001b[39;49m\u001b[38;5;124;43mUsers\u001b[39;49m\u001b[38;5;124;43m\\\u001b[39;49m\u001b[38;5;124;43mOmistaja\u001b[39;49m\u001b[38;5;124;43m\\\u001b[39;49m\u001b[38;5;124;43mDesktop\u001b[39;49m\u001b[38;5;124;43m\\\u001b[39;49m\u001b[38;5;124;43mSRL\u001b[39;49m\u001b[38;5;124;43m\\\u001b[39;49m\u001b[38;5;124;43m2020SRL\u001b[39;49m\u001b[38;5;124;43m\\\u001b[39;49m\u001b[38;5;124;43msoftwareinfo.txt\u001b[39;49m\u001b[38;5;124;43m'\u001b[39;49m\u001b[43m)\u001b[49m\n",
      "File \u001b[1;32m~\\Documents\\GitHub\\PSP-ISOIS-DataAnalysisAndPlottingSoftware\\psp_functions.py:39\u001b[0m, in \u001b[0;36minfo_software\u001b[1;34m(path_to_software_infotxt)\u001b[0m\n\u001b[0;32m     37\u001b[0m '''\n\u001b[0;32m     38\u001b[0m \n\u001b[1;32m---> 39\u001b[0m file = open(path_to_software_infotxt) \n\u001b[0;32m     40\u001b[0m for line in file: \n\u001b[0;32m     41\u001b[0m     print(line,)\n",
      "\u001b[1;31mFileNotFoundError\u001b[0m: [Errno 2] No such file or directory: 'C:\\\\Users\\\\Omistaja\\\\Desktop\\\\SRL\\\\2020SRL\\\\softwareinfo.txt'"
     ]
    }
   ],
   "source": [
    "info_software(r'C:\\Users\\Omistaja\\Desktop\\SRL\\2020SRL\\softwareinfo.txt')"
   ]
  },
  {
   "cell_type": "code",
   "execution_count": 2,
   "id": "2a741e63",
   "metadata": {},
   "outputs": [
    {
     "ename": "NameError",
     "evalue": "name 'retrieve_data' is not defined",
     "output_type": "error",
     "traceback": [
      "\u001b[1;31m---------------------------------------------------------------------------\u001b[0m",
      "\u001b[1;31mNameError\u001b[0m                                 Traceback (most recent call last)",
      "Input \u001b[1;32mIn [2]\u001b[0m, in \u001b[0;36m<cell line: 1>\u001b[1;34m()\u001b[0m\n\u001b[1;32m----> 1\u001b[0m \u001b[43mretrieve_data\u001b[49m(\u001b[38;5;124mr\u001b[39m\u001b[38;5;124m'\u001b[39m\u001b[38;5;124mC:\u001b[39m\u001b[38;5;130;01m\\\\\u001b[39;00m\u001b[38;5;124mUsers\u001b[39m\u001b[38;5;130;01m\\\\\u001b[39;00m\u001b[38;5;124mOmistaja\u001b[39m\u001b[38;5;130;01m\\\\\u001b[39;00m\u001b[38;5;124mDesktop\u001b[39m\u001b[38;5;130;01m\\\\\u001b[39;00m\u001b[38;5;124mSRL\u001b[39m\u001b[38;5;130;01m\\\\\u001b[39;00m\u001b[38;5;124m2020SRL\u001b[39m\u001b[38;5;130;01m\\\\\u001b[39;00m\u001b[38;5;124mplots\u001b[39m\u001b[38;5;124m'\u001b[39m, \u001b[38;5;124m'\u001b[39m\u001b[38;5;124m20190404\u001b[39m\u001b[38;5;124m'\u001b[39m, \u001b[38;5;124m'\u001b[39m\u001b[38;5;124mepihi\u001b[39m\u001b[38;5;124m'\u001b[39m, \u001b[38;5;124m'\u001b[39m\u001b[38;5;124mlet1\u001b[39m\u001b[38;5;124m'\u001b[39m,  rate \u001b[38;5;241m=\u001b[39m \u001b[38;5;124m'\u001b[39m\u001b[38;5;124mrates60\u001b[39m\u001b[38;5;124m'\u001b[39m)\n\u001b[0;32m      2\u001b[0m retrieve_data(\u001b[38;5;124mr\u001b[39m\u001b[38;5;124m'\u001b[39m\u001b[38;5;124mC:\u001b[39m\u001b[38;5;130;01m\\\\\u001b[39;00m\u001b[38;5;124mUsers\u001b[39m\u001b[38;5;130;01m\\\\\u001b[39;00m\u001b[38;5;124mOmistaja\u001b[39m\u001b[38;5;130;01m\\\\\u001b[39;00m\u001b[38;5;124mDesktop\u001b[39m\u001b[38;5;130;01m\\\\\u001b[39;00m\u001b[38;5;124mSRL\u001b[39m\u001b[38;5;130;01m\\\\\u001b[39;00m\u001b[38;5;124m2020SRL\u001b[39m\u001b[38;5;130;01m\\\\\u001b[39;00m\u001b[38;5;124mplots\u001b[39m\u001b[38;5;124m'\u001b[39m, \u001b[38;5;124m'\u001b[39m\u001b[38;5;124m20190404\u001b[39m\u001b[38;5;124m'\u001b[39m, \u001b[38;5;124m'\u001b[39m\u001b[38;5;124mepihi\u001b[39m\u001b[38;5;124m'\u001b[39m, \u001b[38;5;124m'\u001b[39m\u001b[38;5;124mlet2\u001b[39m\u001b[38;5;124m'\u001b[39m,  rate \u001b[38;5;241m=\u001b[39m \u001b[38;5;124m'\u001b[39m\u001b[38;5;124mrates60\u001b[39m\u001b[38;5;124m'\u001b[39m)\n\u001b[0;32m      3\u001b[0m retrieve_data(\u001b[38;5;124mr\u001b[39m\u001b[38;5;124m'\u001b[39m\u001b[38;5;124mC:\u001b[39m\u001b[38;5;130;01m\\\\\u001b[39;00m\u001b[38;5;124mUsers\u001b[39m\u001b[38;5;130;01m\\\\\u001b[39;00m\u001b[38;5;124mOmistaja\u001b[39m\u001b[38;5;130;01m\\\\\u001b[39;00m\u001b[38;5;124mDesktop\u001b[39m\u001b[38;5;130;01m\\\\\u001b[39;00m\u001b[38;5;124mSRL\u001b[39m\u001b[38;5;130;01m\\\\\u001b[39;00m\u001b[38;5;124m2020SRL\u001b[39m\u001b[38;5;130;01m\\\\\u001b[39;00m\u001b[38;5;124mplots\u001b[39m\u001b[38;5;124m'\u001b[39m, \u001b[38;5;124m'\u001b[39m\u001b[38;5;124m20190404\u001b[39m\u001b[38;5;124m'\u001b[39m, \u001b[38;5;124m'\u001b[39m\u001b[38;5;124mepihi\u001b[39m\u001b[38;5;124m'\u001b[39m, \u001b[38;5;124m'\u001b[39m\u001b[38;5;124mhet\u001b[39m\u001b[38;5;124m'\u001b[39m,  rate \u001b[38;5;241m=\u001b[39m \u001b[38;5;124m'\u001b[39m\u001b[38;5;124mrates60\u001b[39m\u001b[38;5;124m'\u001b[39m)\n",
      "\u001b[1;31mNameError\u001b[0m: name 'retrieve_data' is not defined"
     ]
    }
   ],
   "source": [
    "retrieve_data(r'C:\\\\Users\\\\Omistaja\\\\Desktop\\\\SRL\\\\2020SRL\\\\plots', '20190404', 'epihi', 'let1',  rate = 'rates60')\n",
    "retrieve_data(r'C:\\\\Users\\\\Omistaja\\\\Desktop\\\\SRL\\\\2020SRL\\\\plots', '20190404', 'epihi', 'let2',  rate = 'rates60')\n",
    "retrieve_data(r'C:\\\\Users\\\\Omistaja\\\\Desktop\\\\SRL\\\\2020SRL\\\\plots', '20190404', 'epihi', 'het',  rate = 'rates60')\n"
   ]
  },
  {
   "cell_type": "code",
   "execution_count": null,
   "id": "70955966",
   "metadata": {},
   "outputs": [],
   "source": [
    "retrieve_data(r'C:\\\\Users\\\\Omistaja\\\\Desktop\\\\SRL\\\\2020SRL\\\\plots', '20190404', 'epihi', 'let1',  rate = 'rates10')\n",
    "retrieve_data(r'C:\\\\Users\\\\Omistaja\\\\Desktop\\\\SRL\\\\2020SRL\\\\plots', '20190404', 'epihi', 'let2',  rate = 'rates')\n",
    "retrieve_data(r'C:\\\\Users\\\\Omistaja\\\\Desktop\\\\SRL\\\\2020SRL\\\\plots', '20190404', 'epihi', 'het',  rate = 'rates3600')\n"
   ]
  },
  {
   "cell_type": "code",
   "execution_count": null,
   "id": "143a696d",
   "metadata": {},
   "outputs": [],
   "source": [
    "let1 = cdflib.CDF(r'C:\\\\Users\\\\Omistaja\\\\Desktop\\\\SRL\\\\2020SRL\\\\plots\\psp_isois-epihi_l2-let1-rates10_20190404_v12.cdf')\n",
    "let2 = cdflib.CDF(r'C:\\\\Users\\\\Omistaja\\\\Desktop\\\\SRL\\\\2020SRL\\\\plots\\psp_isois-epihi_l2-let2-rates60_20190404_v12.cdf')\n",
    "het = cdflib.CDF(r'C:\\\\Users\\\\Omistaja\\\\Desktop\\\\SRL\\\\2020SRL\\\\plots\\psp_isois-epihi_l2-het-rates60_20190404_v12.cdf')\n",
    "\n",
    "let = cdflib.CDF(r'C:\\\\Users\\\\Omistaja\\\\Desktop\\\\SRL\\\\2020SRL\\\\plots\\psp_isois-epihi_l2-second-rates_20190404_v12.cdf')"
   ]
  },
  {
   "cell_type": "code",
   "execution_count": null,
   "id": "76093b1a",
   "metadata": {},
   "outputs": [],
   "source": [
    "let1.cdf_info()"
   ]
  },
  {
   "cell_type": "code",
   "execution_count": null,
   "id": "7419a735",
   "metadata": {},
   "outputs": [],
   "source": [
    "get_info(let1)"
   ]
  },
  {
   "cell_type": "code",
   "execution_count": null,
   "id": "1d6e3e8c",
   "metadata": {},
   "outputs": [],
   "source": [
    "get_info(let1, 'A_Electrons_Rate')"
   ]
  },
  {
   "cell_type": "code",
   "execution_count": null,
   "id": "8c99c6e1",
   "metadata": {},
   "outputs": [],
   "source": [
    "get_zvariables(let1)"
   ]
  },
  {
   "cell_type": "code",
   "execution_count": null,
   "id": "967e3b23",
   "metadata": {},
   "outputs": [],
   "source": [
    "energy_channels(let1)"
   ]
  },
  {
   "cell_type": "code",
   "execution_count": null,
   "id": "ed0b2925",
   "metadata": {},
   "outputs": [],
   "source": [
    "energy_channels(let2)"
   ]
  },
  {
   "cell_type": "code",
   "execution_count": null,
   "id": "2e31b29e",
   "metadata": {},
   "outputs": [],
   "source": [
    "energy_channels(het)"
   ]
  },
  {
   "cell_type": "code",
   "execution_count": null,
   "id": "748728ff",
   "metadata": {},
   "outputs": [],
   "source": [
    "plot(let1,'HCI_R' )"
   ]
  },
  {
   "cell_type": "code",
   "execution_count": null,
   "id": "7a503101",
   "metadata": {},
   "outputs": [],
   "source": [
    "plot_pa_flux(let1 , let2, title = 'test' , e_bins = [1,2,3,4,8,9,10] , wanted_resolution = 1800, data_resolution = 10)"
   ]
  },
  {
   "cell_type": "code",
   "execution_count": null,
   "id": "c97e19f3",
   "metadata": {},
   "outputs": [],
   "source": [
    "plot_pa_flux(het = het, title = 'test' , e_bins = [1,2,3,4,8,9,10] , wanted_resolution = 1800, data_resolution = 10)"
   ]
  },
  {
   "cell_type": "code",
   "execution_count": null,
   "id": "8efdaca3",
   "metadata": {},
   "outputs": [],
   "source": [
    "spec_plot_pa(let1, let2)"
   ]
  },
  {
   "cell_type": "code",
   "execution_count": null,
   "id": "f87ce647",
   "metadata": {},
   "outputs": [],
   "source": [
    "spec_plot_pa(het= het)"
   ]
  },
  {
   "cell_type": "code",
   "execution_count": null,
   "id": "81916120",
   "metadata": {},
   "outputs": [],
   "source": [
    "multipanel_v001( r'C:\\Users\\Omistaja\\Desktop\\SRL\\2020SRL\\two_day_plots', '20201129', 1) #data_resolution = 'rates10', plot_resolution = '300S')"
   ]
  }
 ],
 "metadata": {
  "kernelspec": {
   "display_name": "Python 3 (ipykernel)",
   "language": "python",
   "name": "python3"
  },
  "language_info": {
   "codemirror_mode": {
    "name": "ipython",
    "version": 3
   },
   "file_extension": ".py",
   "mimetype": "text/x-python",
   "name": "python",
   "nbconvert_exporter": "python",
   "pygments_lexer": "ipython3",
   "version": "3.10.4"
  }
 },
 "nbformat": 4,
 "nbformat_minor": 5
}
